{
 "cells": [
  {
   "cell_type": "code",
   "execution_count": 205,
   "metadata": {},
   "outputs": [],
   "source": [
    "import csv\n",
    "import numpy as np\n",
    "import cv2\n",
    "\n",
    "records  = []\n",
    "\n",
    "directory = \"object-dataset/\"\n",
    "cardirectory = \"object-dataset-cars/\"\n",
    "notcardirectory = \"object-dataset-notcars/\"\n",
    "\n",
    "with open(directory + \"labels.csv\", \"r\") as csvfile:\n",
    "    reader = csv.reader(csvfile, delimiter=\" \", quotechar='\"')\n",
    "    for line in reader:\n",
    "        time = np.int64(line[0].split(\".\")[0])\n",
    "        records.append([time] + line)"
   ]
  },
  {
   "cell_type": "code",
   "execution_count": 151,
   "metadata": {},
   "outputs": [],
   "source": [
    "records = np.sort(records, axis=0)\n",
    "\n",
    "    "
   ]
  },
  {
   "cell_type": "code",
   "execution_count": 153,
   "metadata": {},
   "outputs": [],
   "source": [
    "prev_time = 0\n",
    "time_break = 0\n",
    "series = []\n",
    "series_count = 0\n",
    "cars = []\n",
    "for r in records:\n",
    "    if r[-1] == 'car':\n",
    "        cars.append(r)\n",
    "        diff = (r[0] - prev_time) * (1/1000000000.0)\n",
    "        if diff > 3:\n",
    "            series.append(series_count)\n",
    "            time_break += 1\n",
    "            series_count = 0\n",
    "        series_count +=1\n",
    "        prev_time = r[0]"
   ]
  },
  {
   "cell_type": "code",
   "execution_count": 133,
   "metadata": {},
   "outputs": [
    {
     "name": "stdout",
     "output_type": "stream",
     "text": [
      "66 60788\n"
     ]
    }
   ],
   "source": [
    "print(time_break, len(cars))"
   ]
  },
  {
   "cell_type": "code",
   "execution_count": 85,
   "metadata": {},
   "outputs": [
    {
     "name": "stdout",
     "output_type": "stream",
     "text": [
      "4.75134839365\n"
     ]
    }
   ],
   "source": [
    "print(cars[0])"
   ]
  },
  {
   "cell_type": "code",
   "execution_count": 225,
   "metadata": {},
   "outputs": [],
   "source": [
    "def make_bbox_square(f,shape):\n",
    "    f[2] = int(f[2])\n",
    "    f[3] = int(f[3])\n",
    "    f[4] = int(f[4])\n",
    "    f[5] = int(f[5])\n",
    "    \n",
    "    width = f[4] - f[2]\n",
    "    height = f[5] - f[3]\n",
    "    plusminus = int(np.absolute((width-height)/2))\n",
    "    if width > height:\n",
    "        box = ((f[2], f[4]), np.clip(shape[0], 0, (f[3]-plusminus, f[5]+plusminus)))\n",
    "    else:\n",
    "        box = (np.clip(shape[1], 0, (f[2]-plusminus, f[4]+plusminus)), (f[3], f[5]))\n",
    "    return box\n",
    "    \n",
    "def validate_box(box, heat):\n",
    "    shape = heat.shape\n",
    "    if box[0][0] < 0 or box[1][0] < 0:\n",
    "        return False\n",
    "    if box[0][1] > shape[1] or box[1][1] > shape[0]:\n",
    "        return False\n",
    "    if np.sum(heat[box[1][0]:box[1][1], box[0][0]:box[0][1]]) > 0:\n",
    "        return False\n",
    "    return True\n",
    "    \n",
    "def get_neighboring_box(box, heat, rand):\n",
    "    dim = box[0][1]-box[0][0]\n",
    "    \n",
    "    if rand == 0:\n",
    "        #left\n",
    "        new = ((box[0][0]-dim, box[0][1]-dim), box[1])\n",
    "    elif rand == 1:\n",
    "        #up\n",
    "        new = (box[0], (box[1][0]-dim, box[1][1]-dim))\n",
    "    elif rand == 2:\n",
    "        #right\n",
    "        new = ((box[0][0]+dim, box[0][1]+dim), box[1])\n",
    "    elif rand == 3:\n",
    "        #down\n",
    "        new = (box[1], (box[1][0]+dim, box[1][1]+dim))\n",
    "    if validate_box(new, heat):\n",
    "        return new\n",
    "        \n",
    "def add_heat(heatmap, bbox_list):\n",
    "    for box in bbox_list:\n",
    "        heatmap[box[1][0]:box[1][1], box[0][0]:box[0][1]] += 1\n",
    "    return heatmap\n",
    "        \n",
    "def pull_cars_from_frame(frame_cars):\n",
    "    rand = [0,1,2,3]\n",
    "    bboxes = []\n",
    "    antiboxes = []\n",
    "    img = cv2.imread(directory + frame_cars[0][1])\n",
    "    shape = img.shape\n",
    "    heat = np.zeros_like(img[:,:,:]).astype(np.float)\n",
    "    for i in range(len(frame_cars)):\n",
    "        f = frame_cars[i]\n",
    "        bbox = make_bbox_square(f, shape)\n",
    "        bboxes.append(bbox)\n",
    "    heatmap = add_heat(heat, bboxes)\n",
    "    for box in bboxes:\n",
    "        np.random.shuffle(rand)\n",
    "        for r in rand:\n",
    "            anti = get_neighboring_box(box, heatmap, r)\n",
    "            if anti:\n",
    "                antiboxes.append(anti)\n",
    "                break\n",
    "    for i in range(len(bboxes)):\n",
    "        box = bboxes[i]\n",
    "        out = cv2.resize(img[box[1][0]:box[1][1], box[0][0]:box[0][1]], (64,64))\n",
    "        cv2.imwrite(cardirectory + frame_cars[0][1] + str(i) + \".png\", out)\n",
    "    for i in range(len(antiboxes)):\n",
    "        box = antiboxes[i]\n",
    "        out = cv2.resize(img[box[1][0]:box[1][1], box[0][0]:box[0][1]], (64,64))\n",
    "        cv2.imwrite(notcardirectory + frame_cars[0][1] + str(i) + \".png\", out)\n",
    "    \n",
    "    \n",
    "        \n",
    "\n",
    "car_count = 0\n",
    "current_time = cars[0][0]\n",
    "frame_cars = []\n",
    "count = 0\n",
    "for c in cars:\n",
    "    time_diff = (c[0] - current_time) * (1/1000000000.0)\n",
    "    if time_diff > 2:\n",
    "        pull_cars_from_frame(frame_cars)\n",
    "        frame_cars = [c]\n",
    "        current_time = c[0]\n",
    "        count += 1\n",
    "    elif c[0] == current_time:\n",
    "        if c[6] == '0':\n",
    "            car_count += 1\n",
    "            frame_cars.append(c)\n",
    "        "
   ]
  },
  {
   "cell_type": "code",
   "execution_count": 218,
   "metadata": {},
   "outputs": [
    {
     "data": {
      "text/plain": [
       "array([[  0, 186],\n",
       "       [468, 752]])"
      ]
     },
     "execution_count": 218,
     "metadata": {},
     "output_type": "execute_result"
    }
   ],
   "source": [
    "np.clip(2000,0,((-98, 186), (468, 752)))"
   ]
  },
  {
   "cell_type": "code",
   "execution_count": 226,
   "metadata": {},
   "outputs": [
    {
     "data": {
      "text/plain": [
       "[1, 2]"
      ]
     },
     "execution_count": 226,
     "metadata": {},
     "output_type": "execute_result"
    }
   ],
   "source": [
    "[1] + [2]\n"
   ]
  }
 ],
 "metadata": {
  "kernelspec": {
   "display_name": "Python 3",
   "language": "python",
   "name": "python3"
  },
  "language_info": {
   "codemirror_mode": {
    "name": "ipython",
    "version": 3
   },
   "file_extension": ".py",
   "mimetype": "text/x-python",
   "name": "python",
   "nbconvert_exporter": "python",
   "pygments_lexer": "ipython3",
   "version": "3.5.2"
  },
  "widgets": {
   "state": {},
   "version": "1.1.2"
  }
 },
 "nbformat": 4,
 "nbformat_minor": 2
}
